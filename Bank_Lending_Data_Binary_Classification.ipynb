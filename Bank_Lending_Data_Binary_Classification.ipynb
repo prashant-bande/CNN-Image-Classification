{
  "nbformat": 4,
  "nbformat_minor": 0,
  "metadata": {
    "colab": {
      "name": "Bank Lending Data Binary Classification.ipynb",
      "version": "0.3.2",
      "provenance": [],
      "collapsed_sections": [],
      "include_colab_link": true
    },
    "kernelspec": {
      "name": "python3",
      "display_name": "Python 3"
    }
  },
  "cells": [
    {
      "cell_type": "markdown",
      "metadata": {
        "id": "view-in-github",
        "colab_type": "text"
      },
      "source": [
        "<a href=\"https://colab.research.google.com/github/prashant-bande/Projects/blob/master/Bank_Lending_Data_Binary_Classification.ipynb\" target=\"_parent\"><img src=\"https://colab.research.google.com/assets/colab-badge.svg\" alt=\"Open In Colab\"/></a>"
      ]
    },
    {
      "cell_type": "code",
      "metadata": {
        "id": "-CQVTQj3pth1",
        "colab_type": "code",
        "colab": {}
      },
      "source": [
        "# Import the important libraries\n",
        "import pandas as pd\n",
        "import numpy as np"
      ],
      "execution_count": 0,
      "outputs": []
    },
    {
      "cell_type": "code",
      "metadata": {
        "id": "P0hdMLZAptkn",
        "colab_type": "code",
        "colab": {}
      },
      "source": [
        "# Load the datasets\n",
        "dataset = pd.read_excel('LendingDataBank.xlsx')"
      ],
      "execution_count": 0,
      "outputs": []
    },
    {
      "cell_type": "code",
      "metadata": {
        "id": "u79cudxSp3yT",
        "colab_type": "code",
        "outputId": "e6abf1cc-8847-49a2-dbc6-aec286cd5b9c",
        "colab": {
          "base_uri": "https://localhost:8080/",
          "height": 34
        }
      },
      "source": [
        "# Dataset shape\n",
        "dataset.shape"
      ],
      "execution_count": 3,
      "outputs": [
        {
          "output_type": "execute_result",
          "data": {
            "text/plain": [
              "(855969, 73)"
            ]
          },
          "metadata": {
            "tags": []
          },
          "execution_count": 3
        }
      ]
    },
    {
      "cell_type": "code",
      "metadata": {
        "id": "2h68pOpfp31E",
        "colab_type": "code",
        "outputId": "83b6346d-dee8-4130-f98c-50c8e558d30c",
        "colab": {
          "base_uri": "https://localhost:8080/",
          "height": 317
        }
      },
      "source": [
        "# Statistical measures\n",
        "dataset.describe()"
      ],
      "execution_count": 4,
      "outputs": [
        {
          "output_type": "execute_result",
          "data": {
            "text/html": [
              "<div>\n",
              "<style scoped>\n",
              "    .dataframe tbody tr th:only-of-type {\n",
              "        vertical-align: middle;\n",
              "    }\n",
              "\n",
              "    .dataframe tbody tr th {\n",
              "        vertical-align: top;\n",
              "    }\n",
              "\n",
              "    .dataframe thead th {\n",
              "        text-align: right;\n",
              "    }\n",
              "</style>\n",
              "<table border=\"1\" class=\"dataframe\">\n",
              "  <thead>\n",
              "    <tr style=\"text-align: right;\">\n",
              "      <th></th>\n",
              "      <th>id</th>\n",
              "      <th>member_id</th>\n",
              "      <th>loan_amnt</th>\n",
              "      <th>funded_amnt</th>\n",
              "      <th>funded_amnt_inv</th>\n",
              "      <th>int_rate</th>\n",
              "      <th>installment</th>\n",
              "      <th>annual_inc</th>\n",
              "      <th>dti</th>\n",
              "      <th>delinq_2yrs</th>\n",
              "      <th>inq_last_6mths</th>\n",
              "      <th>mths_since_last_delinq</th>\n",
              "      <th>mths_since_last_record</th>\n",
              "      <th>open_acc</th>\n",
              "      <th>pub_rec</th>\n",
              "      <th>revol_bal</th>\n",
              "      <th>revol_util</th>\n",
              "      <th>total_acc</th>\n",
              "      <th>out_prncp</th>\n",
              "      <th>out_prncp_inv</th>\n",
              "      <th>total_pymnt</th>\n",
              "      <th>total_pymnt_inv</th>\n",
              "      <th>total_rec_prncp</th>\n",
              "      <th>total_rec_int</th>\n",
              "      <th>total_rec_late_fee</th>\n",
              "      <th>recoveries</th>\n",
              "      <th>collection_recovery_fee</th>\n",
              "      <th>last_pymnt_amnt</th>\n",
              "      <th>collections_12_mths_ex_med</th>\n",
              "      <th>mths_since_last_major_derog</th>\n",
              "      <th>policy_code</th>\n",
              "      <th>annual_inc_joint</th>\n",
              "      <th>dti_joint</th>\n",
              "      <th>acc_now_delinq</th>\n",
              "      <th>tot_coll_amt</th>\n",
              "      <th>tot_cur_bal</th>\n",
              "      <th>open_acc_6m</th>\n",
              "      <th>open_il_6m</th>\n",
              "      <th>open_il_12m</th>\n",
              "      <th>open_il_24m</th>\n",
              "      <th>mths_since_rcnt_il</th>\n",
              "      <th>total_bal_il</th>\n",
              "      <th>il_util</th>\n",
              "      <th>open_rv_12m</th>\n",
              "      <th>open_rv_24m</th>\n",
              "      <th>max_bal_bc</th>\n",
              "      <th>all_util</th>\n",
              "      <th>total_rev_hi_lim</th>\n",
              "      <th>inq_fi</th>\n",
              "      <th>total_cu_tl</th>\n",
              "      <th>inq_last_12m</th>\n",
              "      <th>default_ind</th>\n",
              "    </tr>\n",
              "  </thead>\n",
              "  <tbody>\n",
              "    <tr>\n",
              "      <th>count</th>\n",
              "      <td>8.559690e+05</td>\n",
              "      <td>8.559690e+05</td>\n",
              "      <td>855969.000000</td>\n",
              "      <td>855969.000000</td>\n",
              "      <td>855969.000000</td>\n",
              "      <td>855969.000000</td>\n",
              "      <td>855969.000000</td>\n",
              "      <td>8.559690e+05</td>\n",
              "      <td>855969.000000</td>\n",
              "      <td>855969.000000</td>\n",
              "      <td>855969.000000</td>\n",
              "      <td>416157.000000</td>\n",
              "      <td>131184.000000</td>\n",
              "      <td>855969.000000</td>\n",
              "      <td>855969.000000</td>\n",
              "      <td>8.559690e+05</td>\n",
              "      <td>855523.000000</td>\n",
              "      <td>855969.000000</td>\n",
              "      <td>855969.000000</td>\n",
              "      <td>855969.000000</td>\n",
              "      <td>855969.000000</td>\n",
              "      <td>855969.00000</td>\n",
              "      <td>855969.000000</td>\n",
              "      <td>855969.000000</td>\n",
              "      <td>855969.000000</td>\n",
              "      <td>855969.000000</td>\n",
              "      <td>855969.000000</td>\n",
              "      <td>855969.000000</td>\n",
              "      <td>855913.000000</td>\n",
              "      <td>213139.000000</td>\n",
              "      <td>855969.0</td>\n",
              "      <td>442.000000</td>\n",
              "      <td>440.000000</td>\n",
              "      <td>855969.000000</td>\n",
              "      <td>7.886560e+05</td>\n",
              "      <td>7.886560e+05</td>\n",
              "      <td>13288.000000</td>\n",
              "      <td>13288.000000</td>\n",
              "      <td>13288.000000</td>\n",
              "      <td>13288.000000</td>\n",
              "      <td>12934.000000</td>\n",
              "      <td>13288.000000</td>\n",
              "      <td>11609.000000</td>\n",
              "      <td>13288.000000</td>\n",
              "      <td>13288.000000</td>\n",
              "      <td>13288.000000</td>\n",
              "      <td>13288.000000</td>\n",
              "      <td>7.886560e+05</td>\n",
              "      <td>13288.000000</td>\n",
              "      <td>13288.000000</td>\n",
              "      <td>13288.000000</td>\n",
              "      <td>855969.000000</td>\n",
              "    </tr>\n",
              "    <tr>\n",
              "      <th>mean</th>\n",
              "      <td>3.224073e+07</td>\n",
              "      <td>3.476269e+07</td>\n",
              "      <td>14745.571335</td>\n",
              "      <td>14732.378305</td>\n",
              "      <td>14700.061226</td>\n",
              "      <td>13.192320</td>\n",
              "      <td>436.238072</td>\n",
              "      <td>7.507119e+04</td>\n",
              "      <td>18.122165</td>\n",
              "      <td>0.311621</td>\n",
              "      <td>0.680915</td>\n",
              "      <td>34.149943</td>\n",
              "      <td>70.463959</td>\n",
              "      <td>11.542447</td>\n",
              "      <td>0.194537</td>\n",
              "      <td>1.691053e+04</td>\n",
              "      <td>55.019405</td>\n",
              "      <td>25.269269</td>\n",
              "      <td>8284.830230</td>\n",
              "      <td>8281.449347</td>\n",
              "      <td>7653.296336</td>\n",
              "      <td>7622.22052</td>\n",
              "      <td>5850.841088</td>\n",
              "      <td>1755.046221</td>\n",
              "      <td>0.319530</td>\n",
              "      <td>47.089499</td>\n",
              "      <td>4.951227</td>\n",
              "      <td>2225.985295</td>\n",
              "      <td>0.014230</td>\n",
              "      <td>44.101450</td>\n",
              "      <td>1.0</td>\n",
              "      <td>107412.163982</td>\n",
              "      <td>18.318477</td>\n",
              "      <td>0.004944</td>\n",
              "      <td>2.254129e+02</td>\n",
              "      <td>1.397662e+05</td>\n",
              "      <td>1.072998</td>\n",
              "      <td>2.945665</td>\n",
              "      <td>0.749323</td>\n",
              "      <td>1.666767</td>\n",
              "      <td>20.833153</td>\n",
              "      <td>36511.541391</td>\n",
              "      <td>71.486993</td>\n",
              "      <td>1.354305</td>\n",
              "      <td>2.945515</td>\n",
              "      <td>5840.443332</td>\n",
              "      <td>61.024526</td>\n",
              "      <td>3.216357e+04</td>\n",
              "      <td>0.947772</td>\n",
              "      <td>1.524232</td>\n",
              "      <td>1.841963</td>\n",
              "      <td>0.054286</td>\n",
              "    </tr>\n",
              "    <tr>\n",
              "      <th>std</th>\n",
              "      <td>2.271969e+07</td>\n",
              "      <td>2.399418e+07</td>\n",
              "      <td>8425.340005</td>\n",
              "      <td>8419.471653</td>\n",
              "      <td>8425.805478</td>\n",
              "      <td>4.368365</td>\n",
              "      <td>243.726876</td>\n",
              "      <td>6.426447e+04</td>\n",
              "      <td>17.423629</td>\n",
              "      <td>0.857189</td>\n",
              "      <td>0.964033</td>\n",
              "      <td>21.868500</td>\n",
              "      <td>27.827120</td>\n",
              "      <td>5.308094</td>\n",
              "      <td>0.581585</td>\n",
              "      <td>2.222374e+04</td>\n",
              "      <td>23.811585</td>\n",
              "      <td>11.818841</td>\n",
              "      <td>8461.946669</td>\n",
              "      <td>8458.496422</td>\n",
              "      <td>7909.383591</td>\n",
              "      <td>7885.15640</td>\n",
              "      <td>6676.410888</td>\n",
              "      <td>2081.692980</td>\n",
              "      <td>3.609399</td>\n",
              "      <td>413.136043</td>\n",
              "      <td>62.478569</td>\n",
              "      <td>4864.966593</td>\n",
              "      <td>0.133712</td>\n",
              "      <td>22.164907</td>\n",
              "      <td>0.0</td>\n",
              "      <td>47987.608637</td>\n",
              "      <td>7.221855</td>\n",
              "      <td>0.077333</td>\n",
              "      <td>1.048945e+04</td>\n",
              "      <td>1.539385e+05</td>\n",
              "      <td>1.206939</td>\n",
              "      <td>3.080330</td>\n",
              "      <td>0.986169</td>\n",
              "      <td>1.685394</td>\n",
              "      <td>26.739237</td>\n",
              "      <td>42492.757796</td>\n",
              "      <td>23.015293</td>\n",
              "      <td>1.483710</td>\n",
              "      <td>2.595313</td>\n",
              "      <td>5108.500262</td>\n",
              "      <td>20.018117</td>\n",
              "      <td>3.769964e+04</td>\n",
              "      <td>1.441667</td>\n",
              "      <td>2.697601</td>\n",
              "      <td>2.975049</td>\n",
              "      <td>0.226581</td>\n",
              "    </tr>\n",
              "    <tr>\n",
              "      <th>min</th>\n",
              "      <td>5.473400e+04</td>\n",
              "      <td>7.069900e+04</td>\n",
              "      <td>500.000000</td>\n",
              "      <td>500.000000</td>\n",
              "      <td>0.000000</td>\n",
              "      <td>5.320000</td>\n",
              "      <td>15.690000</td>\n",
              "      <td>0.000000e+00</td>\n",
              "      <td>0.000000</td>\n",
              "      <td>0.000000</td>\n",
              "      <td>0.000000</td>\n",
              "      <td>0.000000</td>\n",
              "      <td>0.000000</td>\n",
              "      <td>0.000000</td>\n",
              "      <td>0.000000</td>\n",
              "      <td>0.000000e+00</td>\n",
              "      <td>0.000000</td>\n",
              "      <td>2.000000</td>\n",
              "      <td>0.000000</td>\n",
              "      <td>0.000000</td>\n",
              "      <td>0.000000</td>\n",
              "      <td>0.00000</td>\n",
              "      <td>0.000000</td>\n",
              "      <td>0.000000</td>\n",
              "      <td>0.000000</td>\n",
              "      <td>0.000000</td>\n",
              "      <td>0.000000</td>\n",
              "      <td>0.000000</td>\n",
              "      <td>0.000000</td>\n",
              "      <td>0.000000</td>\n",
              "      <td>1.0</td>\n",
              "      <td>17950.000000</td>\n",
              "      <td>3.050000</td>\n",
              "      <td>0.000000</td>\n",
              "      <td>0.000000e+00</td>\n",
              "      <td>0.000000e+00</td>\n",
              "      <td>0.000000</td>\n",
              "      <td>0.000000</td>\n",
              "      <td>0.000000</td>\n",
              "      <td>0.000000</td>\n",
              "      <td>0.000000</td>\n",
              "      <td>0.000000</td>\n",
              "      <td>0.000000</td>\n",
              "      <td>0.000000</td>\n",
              "      <td>0.000000</td>\n",
              "      <td>0.000000</td>\n",
              "      <td>0.000000</td>\n",
              "      <td>0.000000e+00</td>\n",
              "      <td>0.000000</td>\n",
              "      <td>0.000000</td>\n",
              "      <td>-4.000000</td>\n",
              "      <td>0.000000</td>\n",
              "    </tr>\n",
              "    <tr>\n",
              "      <th>25%</th>\n",
              "      <td>9.067986e+06</td>\n",
              "      <td>1.079273e+07</td>\n",
              "      <td>8000.000000</td>\n",
              "      <td>8000.000000</td>\n",
              "      <td>8000.000000</td>\n",
              "      <td>9.990000</td>\n",
              "      <td>260.550000</td>\n",
              "      <td>4.500000e+04</td>\n",
              "      <td>11.880000</td>\n",
              "      <td>0.000000</td>\n",
              "      <td>0.000000</td>\n",
              "      <td>15.000000</td>\n",
              "      <td>51.000000</td>\n",
              "      <td>8.000000</td>\n",
              "      <td>0.000000</td>\n",
              "      <td>6.469000e+03</td>\n",
              "      <td>37.600000</td>\n",
              "      <td>17.000000</td>\n",
              "      <td>0.000000</td>\n",
              "      <td>0.000000</td>\n",
              "      <td>1969.690000</td>\n",
              "      <td>1960.12000</td>\n",
              "      <td>1239.950000</td>\n",
              "      <td>451.270000</td>\n",
              "      <td>0.000000</td>\n",
              "      <td>0.000000</td>\n",
              "      <td>0.000000</td>\n",
              "      <td>285.420000</td>\n",
              "      <td>0.000000</td>\n",
              "      <td>27.000000</td>\n",
              "      <td>1.0</td>\n",
              "      <td>75000.250000</td>\n",
              "      <td>13.187500</td>\n",
              "      <td>0.000000</td>\n",
              "      <td>0.000000e+00</td>\n",
              "      <td>2.987000e+04</td>\n",
              "      <td>0.000000</td>\n",
              "      <td>1.000000</td>\n",
              "      <td>0.000000</td>\n",
              "      <td>0.000000</td>\n",
              "      <td>6.000000</td>\n",
              "      <td>10390.250000</td>\n",
              "      <td>58.500000</td>\n",
              "      <td>0.000000</td>\n",
              "      <td>1.000000</td>\n",
              "      <td>2405.000000</td>\n",
              "      <td>47.900000</td>\n",
              "      <td>1.400000e+04</td>\n",
              "      <td>0.000000</td>\n",
              "      <td>0.000000</td>\n",
              "      <td>0.000000</td>\n",
              "      <td>0.000000</td>\n",
              "    </tr>\n",
              "    <tr>\n",
              "      <th>50%</th>\n",
              "      <td>3.431355e+07</td>\n",
              "      <td>3.697532e+07</td>\n",
              "      <td>13000.000000</td>\n",
              "      <td>13000.000000</td>\n",
              "      <td>13000.000000</td>\n",
              "      <td>12.990000</td>\n",
              "      <td>382.550000</td>\n",
              "      <td>6.500000e+04</td>\n",
              "      <td>17.610000</td>\n",
              "      <td>0.000000</td>\n",
              "      <td>0.000000</td>\n",
              "      <td>31.000000</td>\n",
              "      <td>70.000000</td>\n",
              "      <td>11.000000</td>\n",
              "      <td>0.000000</td>\n",
              "      <td>1.190300e+04</td>\n",
              "      <td>55.900000</td>\n",
              "      <td>24.000000</td>\n",
              "      <td>6290.250000</td>\n",
              "      <td>6287.650000</td>\n",
              "      <td>4976.160000</td>\n",
              "      <td>4948.25000</td>\n",
              "      <td>3286.890000</td>\n",
              "      <td>1076.910000</td>\n",
              "      <td>0.000000</td>\n",
              "      <td>0.000000</td>\n",
              "      <td>0.000000</td>\n",
              "      <td>468.820000</td>\n",
              "      <td>0.000000</td>\n",
              "      <td>44.000000</td>\n",
              "      <td>1.0</td>\n",
              "      <td>100000.000000</td>\n",
              "      <td>17.735000</td>\n",
              "      <td>0.000000</td>\n",
              "      <td>0.000000e+00</td>\n",
              "      <td>8.100850e+04</td>\n",
              "      <td>1.000000</td>\n",
              "      <td>2.000000</td>\n",
              "      <td>0.000000</td>\n",
              "      <td>1.000000</td>\n",
              "      <td>12.000000</td>\n",
              "      <td>24959.500000</td>\n",
              "      <td>75.000000</td>\n",
              "      <td>1.000000</td>\n",
              "      <td>2.000000</td>\n",
              "      <td>4485.500000</td>\n",
              "      <td>62.100000</td>\n",
              "      <td>2.380000e+04</td>\n",
              "      <td>0.000000</td>\n",
              "      <td>0.000000</td>\n",
              "      <td>2.000000</td>\n",
              "      <td>0.000000</td>\n",
              "    </tr>\n",
              "    <tr>\n",
              "      <th>75%</th>\n",
              "      <td>5.446311e+07</td>\n",
              "      <td>5.803559e+07</td>\n",
              "      <td>20000.000000</td>\n",
              "      <td>20000.000000</td>\n",
              "      <td>20000.000000</td>\n",
              "      <td>15.990000</td>\n",
              "      <td>571.560000</td>\n",
              "      <td>9.000000e+04</td>\n",
              "      <td>23.900000</td>\n",
              "      <td>0.000000</td>\n",
              "      <td>1.000000</td>\n",
              "      <td>50.000000</td>\n",
              "      <td>92.000000</td>\n",
              "      <td>14.000000</td>\n",
              "      <td>0.000000</td>\n",
              "      <td>2.085700e+04</td>\n",
              "      <td>73.500000</td>\n",
              "      <td>32.000000</td>\n",
              "      <td>13528.800000</td>\n",
              "      <td>13522.510000</td>\n",
              "      <td>10744.803649</td>\n",
              "      <td>10697.33000</td>\n",
              "      <td>8000.000000</td>\n",
              "      <td>2233.980000</td>\n",
              "      <td>0.000000</td>\n",
              "      <td>0.000000</td>\n",
              "      <td>0.000000</td>\n",
              "      <td>849.160000</td>\n",
              "      <td>0.000000</td>\n",
              "      <td>61.000000</td>\n",
              "      <td>1.0</td>\n",
              "      <td>130750.000000</td>\n",
              "      <td>22.650000</td>\n",
              "      <td>0.000000</td>\n",
              "      <td>0.000000e+00</td>\n",
              "      <td>2.087032e+05</td>\n",
              "      <td>2.000000</td>\n",
              "      <td>4.000000</td>\n",
              "      <td>1.000000</td>\n",
              "      <td>2.000000</td>\n",
              "      <td>23.000000</td>\n",
              "      <td>47493.000000</td>\n",
              "      <td>87.500000</td>\n",
              "      <td>2.000000</td>\n",
              "      <td>4.000000</td>\n",
              "      <td>7701.250000</td>\n",
              "      <td>75.300000</td>\n",
              "      <td>3.990000e+04</td>\n",
              "      <td>1.000000</td>\n",
              "      <td>2.000000</td>\n",
              "      <td>3.000000</td>\n",
              "      <td>0.000000</td>\n",
              "    </tr>\n",
              "    <tr>\n",
              "      <th>max</th>\n",
              "      <td>6.861687e+07</td>\n",
              "      <td>7.351969e+07</td>\n",
              "      <td>35000.000000</td>\n",
              "      <td>35000.000000</td>\n",
              "      <td>35000.000000</td>\n",
              "      <td>28.990000</td>\n",
              "      <td>1445.460000</td>\n",
              "      <td>9.500000e+06</td>\n",
              "      <td>9999.000000</td>\n",
              "      <td>39.000000</td>\n",
              "      <td>8.000000</td>\n",
              "      <td>188.000000</td>\n",
              "      <td>129.000000</td>\n",
              "      <td>90.000000</td>\n",
              "      <td>86.000000</td>\n",
              "      <td>2.904836e+06</td>\n",
              "      <td>892.300000</td>\n",
              "      <td>169.000000</td>\n",
              "      <td>49372.860000</td>\n",
              "      <td>49372.860000</td>\n",
              "      <td>57777.579870</td>\n",
              "      <td>57777.58000</td>\n",
              "      <td>35000.030000</td>\n",
              "      <td>24205.620000</td>\n",
              "      <td>358.680000</td>\n",
              "      <td>33520.270000</td>\n",
              "      <td>7002.190000</td>\n",
              "      <td>36475.590000</td>\n",
              "      <td>20.000000</td>\n",
              "      <td>188.000000</td>\n",
              "      <td>1.0</td>\n",
              "      <td>410000.000000</td>\n",
              "      <td>43.860000</td>\n",
              "      <td>14.000000</td>\n",
              "      <td>9.152545e+06</td>\n",
              "      <td>8.000078e+06</td>\n",
              "      <td>12.000000</td>\n",
              "      <td>40.000000</td>\n",
              "      <td>12.000000</td>\n",
              "      <td>15.000000</td>\n",
              "      <td>300.000000</td>\n",
              "      <td>634217.000000</td>\n",
              "      <td>223.300000</td>\n",
              "      <td>22.000000</td>\n",
              "      <td>43.000000</td>\n",
              "      <td>83047.000000</td>\n",
              "      <td>151.400000</td>\n",
              "      <td>9.999999e+06</td>\n",
              "      <td>15.000000</td>\n",
              "      <td>33.000000</td>\n",
              "      <td>32.000000</td>\n",
              "      <td>1.000000</td>\n",
              "    </tr>\n",
              "  </tbody>\n",
              "</table>\n",
              "</div>"
            ],
            "text/plain": [
              "                 id     member_id  ...  inq_last_12m    default_ind\n",
              "count  8.559690e+05  8.559690e+05  ...  13288.000000  855969.000000\n",
              "mean   3.224073e+07  3.476269e+07  ...      1.841963       0.054286\n",
              "std    2.271969e+07  2.399418e+07  ...      2.975049       0.226581\n",
              "min    5.473400e+04  7.069900e+04  ...     -4.000000       0.000000\n",
              "25%    9.067986e+06  1.079273e+07  ...      0.000000       0.000000\n",
              "50%    3.431355e+07  3.697532e+07  ...      2.000000       0.000000\n",
              "75%    5.446311e+07  5.803559e+07  ...      3.000000       0.000000\n",
              "max    6.861687e+07  7.351969e+07  ...     32.000000       1.000000\n",
              "\n",
              "[8 rows x 52 columns]"
            ]
          },
          "metadata": {
            "tags": []
          },
          "execution_count": 4
        }
      ]
    },
    {
      "cell_type": "code",
      "metadata": {
        "id": "3ws43_z5p33t",
        "colab_type": "code",
        "outputId": "8907222b-858d-4e0b-eef0-279a3500e556",
        "colab": {
          "base_uri": "https://localhost:8080/",
          "height": 1000
        }
      },
      "source": [
        "# Check the datatypes of observations\n",
        "dataset.info()"
      ],
      "execution_count": 5,
      "outputs": [
        {
          "output_type": "stream",
          "text": [
            "<class 'pandas.core.frame.DataFrame'>\n",
            "RangeIndex: 855969 entries, 0 to 855968\n",
            "Data columns (total 73 columns):\n",
            "id                             855969 non-null int64\n",
            "member_id                      855969 non-null int64\n",
            "loan_amnt                      855969 non-null int64\n",
            "funded_amnt                    855969 non-null int64\n",
            "funded_amnt_inv                855969 non-null float64\n",
            "term                           855969 non-null object\n",
            "int_rate                       855969 non-null float64\n",
            "installment                    855969 non-null float64\n",
            "grade                          855969 non-null object\n",
            "sub_grade                      855969 non-null object\n",
            "emp_title                      806526 non-null object\n",
            "emp_length                     812908 non-null object\n",
            "home_ownership                 855969 non-null object\n",
            "annual_inc                     855969 non-null float64\n",
            "verification_status            855969 non-null object\n",
            "issue_d                        855969 non-null datetime64[ns]\n",
            "pymnt_plan                     855969 non-null object\n",
            "desc                           121812 non-null object\n",
            "purpose                        855969 non-null object\n",
            "title                          855936 non-null object\n",
            "zip_code                       855969 non-null object\n",
            "addr_state                     855969 non-null object\n",
            "dti                            855969 non-null float64\n",
            "delinq_2yrs                    855969 non-null int64\n",
            "earliest_cr_line               855969 non-null datetime64[ns]\n",
            "inq_last_6mths                 855969 non-null int64\n",
            "mths_since_last_delinq         416157 non-null float64\n",
            "mths_since_last_record         131184 non-null float64\n",
            "open_acc                       855969 non-null int64\n",
            "pub_rec                        855969 non-null int64\n",
            "revol_bal                      855969 non-null int64\n",
            "revol_util                     855523 non-null float64\n",
            "total_acc                      855969 non-null int64\n",
            "initial_list_status            855969 non-null object\n",
            "out_prncp                      855969 non-null float64\n",
            "out_prncp_inv                  855969 non-null float64\n",
            "total_pymnt                    855969 non-null float64\n",
            "total_pymnt_inv                855969 non-null float64\n",
            "total_rec_prncp                855969 non-null float64\n",
            "total_rec_int                  855969 non-null float64\n",
            "total_rec_late_fee             855969 non-null float64\n",
            "recoveries                     855969 non-null float64\n",
            "collection_recovery_fee        855969 non-null float64\n",
            "last_pymnt_d                   847107 non-null datetime64[ns]\n",
            "last_pymnt_amnt                855969 non-null float64\n",
            "next_pymnt_d                   602998 non-null datetime64[ns]\n",
            "last_credit_pull_d             855919 non-null datetime64[ns]\n",
            "collections_12_mths_ex_med     855913 non-null float64\n",
            "mths_since_last_major_derog    213139 non-null float64\n",
            "policy_code                    855969 non-null int64\n",
            "application_type               855969 non-null object\n",
            "annual_inc_joint               442 non-null float64\n",
            "dti_joint                      440 non-null float64\n",
            "verification_status_joint      442 non-null object\n",
            "acc_now_delinq                 855969 non-null int64\n",
            "tot_coll_amt                   788656 non-null float64\n",
            "tot_cur_bal                    788656 non-null float64\n",
            "open_acc_6m                    13288 non-null float64\n",
            "open_il_6m                     13288 non-null float64\n",
            "open_il_12m                    13288 non-null float64\n",
            "open_il_24m                    13288 non-null float64\n",
            "mths_since_rcnt_il             12934 non-null float64\n",
            "total_bal_il                   13288 non-null float64\n",
            "il_util                        11609 non-null float64\n",
            "open_rv_12m                    13288 non-null float64\n",
            "open_rv_24m                    13288 non-null float64\n",
            "max_bal_bc                     13288 non-null float64\n",
            "all_util                       13288 non-null float64\n",
            "total_rev_hi_lim               788656 non-null float64\n",
            "inq_fi                         13288 non-null float64\n",
            "total_cu_tl                    13288 non-null float64\n",
            "inq_last_12m                   13288 non-null float64\n",
            "default_ind                    855969 non-null int64\n",
            "dtypes: datetime64[ns](5), float64(39), int64(13), object(16)\n",
            "memory usage: 476.7+ MB\n"
          ],
          "name": "stdout"
        }
      ]
    },
    {
      "cell_type": "code",
      "metadata": {
        "id": "soFIj0dhp36b",
        "colab_type": "code",
        "outputId": "205dc5e5-1d79-4eae-fc00-ded5e124f25e",
        "colab": {
          "base_uri": "https://localhost:8080/",
          "height": 1000
        }
      },
      "source": [
        "# Check the missing values \n",
        "dataset.isnull().sum()"
      ],
      "execution_count": 6,
      "outputs": [
        {
          "output_type": "execute_result",
          "data": {
            "text/plain": [
              "id                                  0\n",
              "member_id                           0\n",
              "loan_amnt                           0\n",
              "funded_amnt                         0\n",
              "funded_amnt_inv                     0\n",
              "term                                0\n",
              "int_rate                            0\n",
              "installment                         0\n",
              "grade                               0\n",
              "sub_grade                           0\n",
              "emp_title                       49443\n",
              "emp_length                      43061\n",
              "home_ownership                      0\n",
              "annual_inc                          0\n",
              "verification_status                 0\n",
              "issue_d                             0\n",
              "pymnt_plan                          0\n",
              "desc                           734157\n",
              "purpose                             0\n",
              "title                              33\n",
              "zip_code                            0\n",
              "addr_state                          0\n",
              "dti                                 0\n",
              "delinq_2yrs                         0\n",
              "earliest_cr_line                    0\n",
              "inq_last_6mths                      0\n",
              "mths_since_last_delinq         439812\n",
              "mths_since_last_record         724785\n",
              "open_acc                            0\n",
              "pub_rec                             0\n",
              "                                ...  \n",
              "last_pymnt_d                     8862\n",
              "last_pymnt_amnt                     0\n",
              "next_pymnt_d                   252971\n",
              "last_credit_pull_d                 50\n",
              "collections_12_mths_ex_med         56\n",
              "mths_since_last_major_derog    642830\n",
              "policy_code                         0\n",
              "application_type                    0\n",
              "annual_inc_joint               855527\n",
              "dti_joint                      855529\n",
              "verification_status_joint      855527\n",
              "acc_now_delinq                      0\n",
              "tot_coll_amt                    67313\n",
              "tot_cur_bal                     67313\n",
              "open_acc_6m                    842681\n",
              "open_il_6m                     842681\n",
              "open_il_12m                    842681\n",
              "open_il_24m                    842681\n",
              "mths_since_rcnt_il             843035\n",
              "total_bal_il                   842681\n",
              "il_util                        844360\n",
              "open_rv_12m                    842681\n",
              "open_rv_24m                    842681\n",
              "max_bal_bc                     842681\n",
              "all_util                       842681\n",
              "total_rev_hi_lim                67313\n",
              "inq_fi                         842681\n",
              "total_cu_tl                    842681\n",
              "inq_last_12m                   842681\n",
              "default_ind                         0\n",
              "Length: 73, dtype: int64"
            ]
          },
          "metadata": {
            "tags": []
          },
          "execution_count": 6
        }
      ]
    },
    {
      "cell_type": "code",
      "metadata": {
        "id": "KLPdY4ssp39L",
        "colab_type": "code",
        "colab": {}
      },
      "source": [
        "# Create the mask where missing values should not be more than 25%\n",
        "mask = dataset.isnull().sum() / len(dataset) < 0.25"
      ],
      "execution_count": 0,
      "outputs": []
    },
    {
      "cell_type": "code",
      "metadata": {
        "id": "8j-7RY2rp3_9",
        "colab_type": "code",
        "colab": {}
      },
      "source": [
        "# Truncate the features where missing values are more than 25%\n",
        "reduced_dataset = dataset.loc[:, mask]"
      ],
      "execution_count": 0,
      "outputs": []
    },
    {
      "cell_type": "code",
      "metadata": {
        "id": "T33WhBnyQA-V",
        "colab_type": "code",
        "outputId": "2cad7e17-9bfd-4413-9b26-a972a608d038",
        "colab": {
          "base_uri": "https://localhost:8080/",
          "height": 34
        }
      },
      "source": [
        "# Check the shape of new dataframe\n",
        "reduced_dataset.shape"
      ],
      "execution_count": 41,
      "outputs": [
        {
          "output_type": "execute_result",
          "data": {
            "text/plain": [
              "(855969, 51)"
            ]
          },
          "metadata": {
            "tags": []
          },
          "execution_count": 41
        }
      ]
    },
    {
      "cell_type": "code",
      "metadata": {
        "id": "6J4BIK7cQA76",
        "colab_type": "code",
        "outputId": "d9d5a72c-da64-4005-bcc4-8023a946d304",
        "colab": {
          "base_uri": "https://localhost:8080/",
          "height": 901
        }
      },
      "source": [
        "# Again check the missng values counts\n",
        "reduced_dataset.isnull().sum()"
      ],
      "execution_count": 43,
      "outputs": [
        {
          "output_type": "execute_result",
          "data": {
            "text/plain": [
              "id                                0\n",
              "member_id                         0\n",
              "loan_amnt                         0\n",
              "funded_amnt                       0\n",
              "funded_amnt_inv                   0\n",
              "term                              0\n",
              "int_rate                          0\n",
              "installment                       0\n",
              "grade                             0\n",
              "sub_grade                         0\n",
              "emp_title                     49443\n",
              "emp_length                    43061\n",
              "home_ownership                    0\n",
              "annual_inc                        0\n",
              "verification_status               0\n",
              "issue_d                           0\n",
              "pymnt_plan                        0\n",
              "purpose                           0\n",
              "title                            33\n",
              "zip_code                          0\n",
              "addr_state                        0\n",
              "dti                               0\n",
              "delinq_2yrs                       0\n",
              "earliest_cr_line                  0\n",
              "inq_last_6mths                    0\n",
              "open_acc                          0\n",
              "pub_rec                           0\n",
              "revol_bal                         0\n",
              "revol_util                      446\n",
              "total_acc                         0\n",
              "initial_list_status               0\n",
              "out_prncp                         0\n",
              "out_prncp_inv                     0\n",
              "total_pymnt                       0\n",
              "total_pymnt_inv                   0\n",
              "total_rec_prncp                   0\n",
              "total_rec_int                     0\n",
              "total_rec_late_fee                0\n",
              "recoveries                        0\n",
              "collection_recovery_fee           0\n",
              "last_pymnt_d                   8862\n",
              "last_pymnt_amnt                   0\n",
              "last_credit_pull_d               50\n",
              "collections_12_mths_ex_med       56\n",
              "policy_code                       0\n",
              "application_type                  0\n",
              "acc_now_delinq                    0\n",
              "tot_coll_amt                  67313\n",
              "tot_cur_bal                   67313\n",
              "total_rev_hi_lim              67313\n",
              "default_ind                       0\n",
              "dtype: int64"
            ]
          },
          "metadata": {
            "tags": []
          },
          "execution_count": 43
        }
      ]
    },
    {
      "cell_type": "code",
      "metadata": {
        "id": "gbubv9ABSebX",
        "colab_type": "code",
        "colab": {}
      },
      "source": [
        "# Find the features where datatype is \"object\" \n",
        "categorical_mask = (reduced_dataset.dtypes == object)"
      ],
      "execution_count": 0,
      "outputs": []
    },
    {
      "cell_type": "code",
      "metadata": {
        "id": "BF6g87eEeRQC",
        "colab_type": "code",
        "outputId": "89bb60e7-68ab-48c2-861a-d8c58caf3088",
        "colab": {
          "base_uri": "https://localhost:8080/",
          "height": 102
        }
      },
      "source": [
        "# Get the list categorical features\n",
        "reduced_dataset.loc[:,categorical_mask].columns"
      ],
      "execution_count": 45,
      "outputs": [
        {
          "output_type": "execute_result",
          "data": {
            "text/plain": [
              "Index(['term', 'grade', 'sub_grade', 'emp_title', 'emp_length',\n",
              "       'home_ownership', 'verification_status', 'pymnt_plan', 'purpose',\n",
              "       'title', 'zip_code', 'addr_state', 'initial_list_status',\n",
              "       'application_type'],\n",
              "      dtype='object')"
            ]
          },
          "metadata": {
            "tags": []
          },
          "execution_count": 45
        }
      ]
    },
    {
      "cell_type": "code",
      "metadata": {
        "id": "6FoJFcF-emC6",
        "colab_type": "code",
        "colab": {}
      },
      "source": [
        "# Drop the categorical features\n",
        "df_num = reduced_dataset.drop(['term', 'grade', 'sub_grade', 'emp_title', 'emp_length',\n",
        "       'home_ownership', 'verification_status', 'pymnt_plan', 'purpose',\n",
        "       'title', 'zip_code', 'addr_state', 'initial_list_status',\n",
        "       'application_type'], axis=1)"
      ],
      "execution_count": 0,
      "outputs": []
    },
    {
      "cell_type": "code",
      "metadata": {
        "id": "XWWjQB5ZgDbQ",
        "colab_type": "code",
        "outputId": "22d9f05d-a8e3-444b-c834-7ba4012e565f",
        "colab": {
          "base_uri": "https://localhost:8080/",
          "height": 663
        }
      },
      "source": [
        "# Verify the datatypes\n",
        "df_num.dtypes"
      ],
      "execution_count": 47,
      "outputs": [
        {
          "output_type": "execute_result",
          "data": {
            "text/plain": [
              "id                                     int64\n",
              "member_id                              int64\n",
              "loan_amnt                              int64\n",
              "funded_amnt                            int64\n",
              "funded_amnt_inv                      float64\n",
              "int_rate                             float64\n",
              "installment                          float64\n",
              "annual_inc                           float64\n",
              "issue_d                       datetime64[ns]\n",
              "dti                                  float64\n",
              "delinq_2yrs                            int64\n",
              "earliest_cr_line              datetime64[ns]\n",
              "inq_last_6mths                         int64\n",
              "open_acc                               int64\n",
              "pub_rec                                int64\n",
              "revol_bal                              int64\n",
              "revol_util                           float64\n",
              "total_acc                              int64\n",
              "out_prncp                            float64\n",
              "out_prncp_inv                        float64\n",
              "total_pymnt                          float64\n",
              "total_pymnt_inv                      float64\n",
              "total_rec_prncp                      float64\n",
              "total_rec_int                        float64\n",
              "total_rec_late_fee                   float64\n",
              "recoveries                           float64\n",
              "collection_recovery_fee              float64\n",
              "last_pymnt_d                  datetime64[ns]\n",
              "last_pymnt_amnt                      float64\n",
              "last_credit_pull_d            datetime64[ns]\n",
              "collections_12_mths_ex_med           float64\n",
              "policy_code                            int64\n",
              "acc_now_delinq                         int64\n",
              "tot_coll_amt                         float64\n",
              "tot_cur_bal                          float64\n",
              "total_rev_hi_lim                     float64\n",
              "default_ind                            int64\n",
              "dtype: object"
            ]
          },
          "metadata": {
            "tags": []
          },
          "execution_count": 47
        }
      ]
    },
    {
      "cell_type": "code",
      "metadata": {
        "id": "TmQ2111hmu8q",
        "colab_type": "code",
        "colab": {}
      },
      "source": [
        "# Drop the observation where datatype is \"datetime[ns]\"\n",
        "df_num.drop(['issue_d', 'earliest_cr_line', 'last_pymnt_d', 'last_credit_pull_d'], axis=1, inplace=True)"
      ],
      "execution_count": 0,
      "outputs": []
    },
    {
      "cell_type": "code",
      "metadata": {
        "id": "Y9GyZjPoF3r6",
        "colab_type": "code",
        "colab": {}
      },
      "source": [
        "# Drop the observation where variation is less\n",
        "\n",
        "df_num.drop(['member_id', 'delinq_2yrs', 'inq_last_6mths', 'pub_rec', 'total_rec_late_fee', 'recoveries', 'collection_recovery_fee', 'collections_12_mths_ex_med', 'policy_code', \n",
        "             'acc_now_delinq', 'tot_coll_amt'], axis=1, inplace=True)"
      ],
      "execution_count": 0,
      "outputs": []
    },
    {
      "cell_type": "code",
      "metadata": {
        "id": "QEietozRjKb-",
        "colab_type": "code",
        "outputId": "1f122e19-7b6e-427c-8a0a-3dec9a5b6e11",
        "colab": {
          "base_uri": "https://localhost:8080/",
          "height": 408
        }
      },
      "source": [
        "# Verify the datatype again\n",
        "df_num.dtypes"
      ],
      "execution_count": 50,
      "outputs": [
        {
          "output_type": "execute_result",
          "data": {
            "text/plain": [
              "id                    int64\n",
              "loan_amnt             int64\n",
              "funded_amnt           int64\n",
              "funded_amnt_inv     float64\n",
              "int_rate            float64\n",
              "installment         float64\n",
              "annual_inc          float64\n",
              "dti                 float64\n",
              "open_acc              int64\n",
              "revol_bal             int64\n",
              "revol_util          float64\n",
              "total_acc             int64\n",
              "out_prncp           float64\n",
              "out_prncp_inv       float64\n",
              "total_pymnt         float64\n",
              "total_pymnt_inv     float64\n",
              "total_rec_prncp     float64\n",
              "total_rec_int       float64\n",
              "last_pymnt_amnt     float64\n",
              "tot_cur_bal         float64\n",
              "total_rev_hi_lim    float64\n",
              "default_ind           int64\n",
              "dtype: object"
            ]
          },
          "metadata": {
            "tags": []
          },
          "execution_count": 50
        }
      ]
    },
    {
      "cell_type": "code",
      "metadata": {
        "id": "UIeFS_uAjvQd",
        "colab_type": "code",
        "colab": {}
      },
      "source": [
        "# Replace the missing values with the mean of respective features\n",
        "df_num = df_num.fillna(df_num.mean())"
      ],
      "execution_count": 0,
      "outputs": []
    },
    {
      "cell_type": "code",
      "metadata": {
        "id": "aY4qcTK1jvS1",
        "colab_type": "code",
        "outputId": "f9823863-2658-4a16-a323-919609f421af",
        "colab": {
          "base_uri": "https://localhost:8080/",
          "height": 408
        }
      },
      "source": [
        "# Verify, features should not have any missing values now\n",
        "df_num.isna().sum()"
      ],
      "execution_count": 52,
      "outputs": [
        {
          "output_type": "execute_result",
          "data": {
            "text/plain": [
              "id                  0\n",
              "loan_amnt           0\n",
              "funded_amnt         0\n",
              "funded_amnt_inv     0\n",
              "int_rate            0\n",
              "installment         0\n",
              "annual_inc          0\n",
              "dti                 0\n",
              "open_acc            0\n",
              "revol_bal           0\n",
              "revol_util          0\n",
              "total_acc           0\n",
              "out_prncp           0\n",
              "out_prncp_inv       0\n",
              "total_pymnt         0\n",
              "total_pymnt_inv     0\n",
              "total_rec_prncp     0\n",
              "total_rec_int       0\n",
              "last_pymnt_amnt     0\n",
              "tot_cur_bal         0\n",
              "total_rev_hi_lim    0\n",
              "default_ind         0\n",
              "dtype: int64"
            ]
          },
          "metadata": {
            "tags": []
          },
          "execution_count": 52
        }
      ]
    },
    {
      "cell_type": "code",
      "metadata": {
        "id": "V8Rx1Ke5kJDy",
        "colab_type": "code",
        "colab": {}
      },
      "source": [
        "# Import Pipeline, xgboost, cross_val_score, GridSearchCV\n",
        "from sklearn.pipeline import Pipeline\n",
        "from sklearn.model_selection import cross_val_score, GridSearchCV\n",
        "import xgboost as xgb"
      ],
      "execution_count": 0,
      "outputs": []
    },
    {
      "cell_type": "code",
      "metadata": {
        "id": "plnRzrMXkJGW",
        "colab_type": "code",
        "colab": {}
      },
      "source": [
        "# Create a features and labels\n",
        "X = df_num.iloc[:,:-1].astype('float32')\n",
        "y = df_num.iloc[:,-1].astype('float32')"
      ],
      "execution_count": 0,
      "outputs": []
    },
    {
      "cell_type": "code",
      "metadata": {
        "id": "GS1c70wZbMqX",
        "colab_type": "code",
        "colab": {}
      },
      "source": [
        "from sklearn.preprocessing import StandardScaler\n",
        "\n",
        "# Create the scaler and standardize the data\n",
        "scaler = StandardScaler()\n",
        "X_std = scaler.fit_transform(X)"
      ],
      "execution_count": 0,
      "outputs": []
    },
    {
      "cell_type": "code",
      "metadata": {
        "id": "9w0FY5r8kJJW",
        "colab_type": "code",
        "outputId": "9d08b8f0-4672-4681-fb82-90ccbe008531",
        "colab": {
          "base_uri": "https://localhost:8080/",
          "height": 85
        }
      },
      "source": [
        "# Create a DMatrix from X and y\n",
        "lending_dmatrix = xgb.DMatrix(data=X_std, label=y)"
      ],
      "execution_count": 56,
      "outputs": [
        {
          "output_type": "stream",
          "text": [
            "/usr/local/lib/python3.6/dist-packages/xgboost/core.py:587: FutureWarning: Series.base is deprecated and will be removed in a future version\n",
            "  if getattr(data, 'base', None) is not None and \\\n",
            "/usr/local/lib/python3.6/dist-packages/xgboost/core.py:588: FutureWarning: Series.base is deprecated and will be removed in a future version\n",
            "  data.base is not None and isinstance(data, np.ndarray) \\\n"
          ],
          "name": "stderr"
        }
      ]
    },
    {
      "cell_type": "code",
      "metadata": {
        "id": "GQJqX0PzkJL0",
        "colab_type": "code",
        "colab": {}
      },
      "source": [
        "# Create the parameter grid: gbm_param_grid\n",
        "gbm_param_grid = {\n",
        "    'colsample_bytree': [0.3, 0.7],\n",
        "    'n_estimators': [50, 75],\n",
        "    'max_depth': [2, 4]\n",
        "}"
      ],
      "execution_count": 0,
      "outputs": []
    },
    {
      "cell_type": "code",
      "metadata": {
        "id": "hWS8jfLN4fTs",
        "colab_type": "code",
        "colab": {}
      },
      "source": [
        "# Instantiate the regressor: gbm\n",
        "gbm = xgb.XGBClassifier()"
      ],
      "execution_count": 0,
      "outputs": []
    },
    {
      "cell_type": "code",
      "metadata": {
        "id": "j_TAqSor4fWW",
        "colab_type": "code",
        "colab": {}
      },
      "source": [
        "# Perform grid search: grid_mse\n",
        "grid_mse = GridSearchCV(estimator=gbm, n_jobs=-1, param_grid=gbm_param_grid, scoring='neg_mean_squared_error', cv=4, verbose=1)"
      ],
      "execution_count": 0,
      "outputs": []
    },
    {
      "cell_type": "code",
      "metadata": {
        "id": "Oed75JMI4fbS",
        "colab_type": "code",
        "outputId": "831546f0-8034-4938-cd4e-8d51c2f77b3a",
        "colab": {
          "base_uri": "https://localhost:8080/",
          "height": 394
        }
      },
      "source": [
        "# Fit grid_mse to the data\n",
        "grid_mse.fit(X_std, y)"
      ],
      "execution_count": 60,
      "outputs": [
        {
          "output_type": "stream",
          "text": [
            "Fitting 4 folds for each of 8 candidates, totalling 32 fits\n"
          ],
          "name": "stdout"
        },
        {
          "output_type": "stream",
          "text": [
            "[Parallel(n_jobs=-1)]: Using backend LokyBackend with 2 concurrent workers.\n",
            "/usr/local/lib/python3.6/dist-packages/joblib/externals/loky/process_executor.py:706: UserWarning: A worker stopped while some jobs were given to the executor. This can be caused by a too short worker timeout or by a memory leak.\n",
            "  \"timeout or by a memory leak.\", UserWarning\n",
            "[Parallel(n_jobs=-1)]: Done  32 out of  32 | elapsed: 16.4min finished\n"
          ],
          "name": "stderr"
        },
        {
          "output_type": "execute_result",
          "data": {
            "text/plain": [
              "GridSearchCV(cv=4, error_score='raise-deprecating',\n",
              "             estimator=XGBClassifier(base_score=0.5, booster='gbtree',\n",
              "                                     colsample_bylevel=1, colsample_bynode=1,\n",
              "                                     colsample_bytree=1, gamma=0,\n",
              "                                     learning_rate=0.1, max_delta_step=0,\n",
              "                                     max_depth=3, min_child_weight=1,\n",
              "                                     missing=None, n_estimators=100, n_jobs=1,\n",
              "                                     nthread=None, objective='binary:logistic',\n",
              "                                     random_state=0, reg_alpha=0, reg_lambda=1,\n",
              "                                     scale_pos_weight=1, seed=None, silent=None,\n",
              "                                     subsample=1, verbosity=1),\n",
              "             iid='warn', n_jobs=-1,\n",
              "             param_grid={'colsample_bytree': [0.3, 0.7], 'max_depth': [2, 4],\n",
              "                         'n_estimators': [50, 60]},\n",
              "             pre_dispatch='2*n_jobs', refit=True, return_train_score=False,\n",
              "             scoring='neg_mean_squared_error', verbose=1)"
            ]
          },
          "metadata": {
            "tags": []
          },
          "execution_count": 60
        }
      ]
    },
    {
      "cell_type": "code",
      "metadata": {
        "id": "uYNsknjQ4fd1",
        "colab_type": "code",
        "outputId": "03323094-5f41-44b6-97f8-196ea7b85412",
        "colab": {
          "base_uri": "https://localhost:8080/",
          "height": 51
        }
      },
      "source": [
        "# Print the best parameters and lowest RMSE\n",
        "print(\"Best parameters found: \", grid_mse.best_params_)\n",
        "print(\"Lowest RMSE found: \", np.sqrt(np.abs(grid_mse.best_score_)))"
      ],
      "execution_count": 61,
      "outputs": [
        {
          "output_type": "stream",
          "text": [
            "Best parameters found:  {'colsample_bytree': 0.7, 'max_depth': 2, 'n_estimators': 60}\n",
            "Lowest RMSE found:  0.27085938603086923\n"
          ],
          "name": "stdout"
        }
      ]
    },
    {
      "cell_type": "code",
      "metadata": {
        "id": "AtbFA2FM4fgT",
        "colab_type": "code",
        "colab": {}
      },
      "source": [
        "# Best parameters found:  {'colsample_bytree': 0.7, 'max_depth': 2, 'n_estimators': 75}\n",
        "# Lowest RMSE found:  0.2572160687558253"
      ],
      "execution_count": 0,
      "outputs": []
    },
    {
      "cell_type": "markdown",
      "metadata": {
        "id": "v0NI5OSHZHCk",
        "colab_type": "text"
      },
      "source": [
        "# Lets use the PCA to find the components\n",
        "\n",
        "\n",
        "Now lets try use the PCA to get the best components"
      ]
    },
    {
      "cell_type": "code",
      "metadata": {
        "id": "ybaIhaZKeKN3",
        "colab_type": "code",
        "colab": {}
      },
      "source": [
        "# Import the PCA class\n",
        "from sklearn.decomposition import PCA"
      ],
      "execution_count": 0,
      "outputs": []
    },
    {
      "cell_type": "code",
      "metadata": {
        "id": "vkC1MsxyZOPc",
        "colab_type": "code",
        "colab": {}
      },
      "source": [
        "# Initialize the PCA with best 10 components\n",
        "pca = PCA(n_components=15)"
      ],
      "execution_count": 0,
      "outputs": []
    },
    {
      "cell_type": "code",
      "metadata": {
        "id": "Zbi7jWtuZOSB",
        "colab_type": "code",
        "colab": {}
      },
      "source": [
        "# Fit and transform the PCA on X_std\n",
        "pc = pca.fit_transform(X_std)"
      ],
      "execution_count": 0,
      "outputs": []
    },
    {
      "cell_type": "code",
      "metadata": {
        "id": "5E3oFOEoZOU1",
        "colab_type": "code",
        "outputId": "ec478846-eab2-43b7-baed-58994a780c7b",
        "colab": {
          "base_uri": "https://localhost:8080/",
          "height": 68
        }
      },
      "source": [
        "# Print the explained variance ratio for each components\n",
        "print(pca.explained_variance_ratio_)"
      ],
      "execution_count": 71,
      "outputs": [
        {
          "output_type": "stream",
          "text": [
            "[0.31988609 0.2100639  0.10372606 0.06680172 0.06454953 0.04750638\n",
            " 0.04334002 0.03652426 0.03136172 0.02620613 0.01386874 0.01301961\n",
            " 0.00967594 0.00611972 0.00442918]\n"
          ],
          "name": "stdout"
        }
      ]
    },
    {
      "cell_type": "code",
      "metadata": {
        "id": "o36Jb42FZOXh",
        "colab_type": "code",
        "outputId": "df455bb7-918f-406e-fa7e-61df3f041408",
        "colab": {
          "base_uri": "https://localhost:8080/",
          "height": 68
        }
      },
      "source": [
        "# Calculate the sum of explained variance ratio\n",
        "print(pca.explained_variance_ratio_.cumsum())"
      ],
      "execution_count": 72,
      "outputs": [
        {
          "output_type": "stream",
          "text": [
            "[0.31988609 0.52994999 0.63367605 0.70047778 0.7650273  0.81253369\n",
            " 0.85587371 0.89239796 0.92375968 0.94996582 0.96383456 0.97685417\n",
            " 0.9865301  0.99264983 0.99707901]\n"
          ],
          "name": "stdout"
        }
      ]
    },
    {
      "cell_type": "code",
      "metadata": {
        "id": "QpiUI4DrZOcy",
        "colab_type": "code",
        "outputId": "843643a6-6548-4cd0-db75-10f4e351c5ad",
        "colab": {
          "base_uri": "https://localhost:8080/",
          "height": 411
        }
      },
      "source": [
        "# Create the parameter grid: gbm_param_grid\n",
        "gbm_param_grid = {\n",
        "    'colsample_bytree': [0.3, 0.7],\n",
        "    'n_estimators': [50, 75],\n",
        "    'max_depth': [2, 5]\n",
        "}\n",
        "\n",
        "# Instantiate the regressor: gbm\n",
        "gbm = xgb.XGBClassifier()\n",
        "\n",
        "# Perform grid search: grid_mse\n",
        "grid_mse = GridSearchCV(estimator=gbm, n_jobs=-1, param_grid=gbm_param_grid, scoring='neg_mean_squared_error', cv=8, verbose=1)\n",
        "\n",
        "# Fit grid_mse to the data\n",
        "grid_mse.fit(pc, y)"
      ],
      "execution_count": 73,
      "outputs": [
        {
          "output_type": "stream",
          "text": [
            "Fitting 8 folds for each of 8 candidates, totalling 64 fits\n"
          ],
          "name": "stdout"
        },
        {
          "output_type": "stream",
          "text": [
            "[Parallel(n_jobs=-1)]: Using backend LokyBackend with 2 concurrent workers.\n",
            "/usr/local/lib/python3.6/dist-packages/joblib/externals/loky/process_executor.py:706: UserWarning: A worker stopped while some jobs were given to the executor. This can be caused by a too short worker timeout or by a memory leak.\n",
            "  \"timeout or by a memory leak.\", UserWarning\n",
            "[Parallel(n_jobs=-1)]: Done  46 tasks      | elapsed: 37.8min\n",
            "[Parallel(n_jobs=-1)]: Done  64 out of  64 | elapsed: 72.5min finished\n"
          ],
          "name": "stderr"
        },
        {
          "output_type": "execute_result",
          "data": {
            "text/plain": [
              "GridSearchCV(cv=8, error_score='raise-deprecating',\n",
              "             estimator=XGBClassifier(base_score=0.5, booster='gbtree',\n",
              "                                     colsample_bylevel=1, colsample_bynode=1,\n",
              "                                     colsample_bytree=1, gamma=0,\n",
              "                                     learning_rate=0.1, max_delta_step=0,\n",
              "                                     max_depth=3, min_child_weight=1,\n",
              "                                     missing=None, n_estimators=100, n_jobs=1,\n",
              "                                     nthread=None, objective='binary:logistic',\n",
              "                                     random_state=0, reg_alpha=0, reg_lambda=1,\n",
              "                                     scale_pos_weight=1, seed=None, silent=None,\n",
              "                                     subsample=1, verbosity=1),\n",
              "             iid='warn', n_jobs=-1,\n",
              "             param_grid={'colsample_bytree': [0.3, 0.7], 'max_depth': [2, 5],\n",
              "                         'n_estimators': [50, 75]},\n",
              "             pre_dispatch='2*n_jobs', refit=True, return_train_score=False,\n",
              "             scoring='neg_mean_squared_error', verbose=1)"
            ]
          },
          "metadata": {
            "tags": []
          },
          "execution_count": 73
        }
      ]
    },
    {
      "cell_type": "code",
      "metadata": {
        "id": "8h76-f1KZOfk",
        "colab_type": "code",
        "outputId": "cef2f41d-8ad1-4d8c-8f76-35405c48c33e",
        "colab": {
          "base_uri": "https://localhost:8080/",
          "height": 51
        }
      },
      "source": [
        "# Print the best parameters and lowest RMSE\n",
        "print(\"Best parameters found: \", grid_mse.best_params_)\n",
        "print(\"Lowest RMSE found: \", np.sqrt(np.abs(grid_mse.best_score_)))"
      ],
      "execution_count": 74,
      "outputs": [
        {
          "output_type": "stream",
          "text": [
            "Best parameters found:  {'colsample_bytree': 0.7, 'max_depth': 5, 'n_estimators': 75}\n",
            "Lowest RMSE found:  0.07026446237212762\n"
          ],
          "name": "stdout"
        }
      ]
    }
  ]
}